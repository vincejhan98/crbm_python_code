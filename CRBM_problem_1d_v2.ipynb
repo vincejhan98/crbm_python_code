{
 "cells": [
  {
   "cell_type": "code",
   "execution_count": 10,
   "metadata": {},
   "outputs": [],
   "source": [
    "import numpy as np\n",
    "import pandas as pd\n",
    "import math\n",
    "import matplotlib.pyplot as plt\n",
    "import sys"
   ]
  },
  {
   "cell_type": "code",
   "execution_count": 11,
   "metadata": {},
   "outputs": [],
   "source": [
    "def sigmoid(x):\n",
    "  return 1 / (1 + np.exp(-x))\n",
    "\n",
    "def sample_with_prob(arr): \n",
    "  random = np.random.uniform(-1,1, arr.shape)\n",
    "\n",
    "  array = np.ones(arr.shape)\n",
    "  array[np.where(arr<random)] = -1\n",
    "  return array\n",
    "    # arr = (arr + 1) / 2 # from tanh to probability\n",
    "\n",
    "    # return np.array([np.random.choice([-1,1], p=[1-prob,prob]) for prob in arr])\n",
    "\n",
    "# Convolution\n",
    "def convolution(W,Prev,stride):\n",
    "  Prev_cp = np.concatenate((Prev.copy(), Prev.copy()), axis=0) # extend Prev array\n",
    "  res = []\n",
    "  for i in range(0, len(Prev), stride):\n",
    "    res.append( W @ Prev_cp[i:i+2])\n",
    "  return np.array(res)\n",
    "\n",
    "# Energy Function\n",
    "def energy_function(W,h,v,stride,b,c):\n",
    "    return np.multiply(-h.T, convolution(W,v,stride)).sum() - b*sum(h) - c*sum(v)"
   ]
  },
  {
   "cell_type": "code",
   "execution_count": 12,
   "metadata": {},
   "outputs": [],
   "source": [
    "Case = 1\n",
    "# I) 1D Convolutional RBM properties\n",
    "if Case == 1:\n",
    "    L = 10\n",
    "    stride = 1\n",
    "    W = [2.346, -2.346] # filter\n",
    "    bias_hidden = 0\n",
    "    bias_visible = 0\n",
    "elif Case == 2:\n",
    "    L = 10\n",
    "    stride = 1\n",
    "    W = [2.346, 2.346] # filter\n",
    "    bias_hidden = 0\n",
    "    bias_visible = 0\n",
    "\n",
    "V = np.array([1 for _ in range(L)])\n",
    "H = np.array([0 for _ in range(L)])\n",
    "\n",
    "num_samples = 500\n",
    "samples = []\n",
    "min_energy = float('inf')\n",
    "min_energy_sample = V.copy()\n"
   ]
  },
  {
   "cell_type": "code",
   "execution_count": 13,
   "metadata": {},
   "outputs": [],
   "source": [
    "for it in range(num_samples*2):\n",
    "    if it%2 == 0: # V to H\n",
    "        H_conv = convolution(W,V,stride)\n",
    "        tanh_vec = np.array(np.tanh(H_conv))\n",
    "        H = np.array(sample_with_prob(tanh_vec))\n",
    "    else: # H to V\n",
    "        # print(np.flip(W), np.array(W).T)\n",
    "        V_conv = convolution(np.flip(W),H,stride)\n",
    "        tanh_vec = np.array(np.tanh(np.roll(V_conv,1)))\n",
    "        V = np.array(sample_with_prob(tanh_vec))\n",
    "        istr = [str(i) for i in V]\n",
    "        samples.append(\",\".join(istr))\n",
    "        energy = energy_function(W,H,V,stride,bias_visible,bias_hidden)\n",
    "        if energy < min_energy:\n",
    "            min_energy_sample = V.copy()\n",
    "            min_energy = energy\n"
   ]
  },
  {
   "cell_type": "code",
   "execution_count": 14,
   "metadata": {},
   "outputs": [
    {
     "name": "stdout",
     "output_type": "stream",
     "text": [
      "Max Occurance:  -1.0,1.0,1.0,1.0,-1.0,1.0,-1.0,1.0,-1.0,1.0 :  493 times out of  500 times\n",
      "Min Energy :  -46.92  is at  [-1.  1. -1.  1. -1.  1. -1.  1. -1.  1.]\n"
     ]
    }
   ],
   "source": [
    "value_counts = pd.value_counts(samples)\n",
    "print(\"Max Occurance: \", samples[value_counts.argmax()], \": \",\n",
    "        value_counts[value_counts.argmax()], \"times out of \", num_samples, \"times\")\n",
    "print(\"Min Energy : \", min_energy, \" is at \", min_energy_sample)\n",
    "\n",
    "#print(value_counts)\n",
    "#plt.hist(samples)\n",
    "#plt.show()"
   ]
  },
  {
   "cell_type": "code",
   "execution_count": null,
   "metadata": {},
   "outputs": [],
   "source": []
  }
 ],
 "metadata": {
  "interpreter": {
   "hash": "03386c3a8da94798b3ccd9a41b5d8ca93cc03478620923e7222ff2848a6c0f0b"
  },
  "kernelspec": {
   "display_name": "Python 3.8.8 64-bit ('base': conda)",
   "name": "python3"
  },
  "language_info": {
   "codemirror_mode": {
    "name": "ipython",
    "version": 3
   },
   "file_extension": ".py",
   "mimetype": "text/x-python",
   "name": "python",
   "nbconvert_exporter": "python",
   "pygments_lexer": "ipython3",
   "version": "3.8.8"
  },
  "orig_nbformat": 4
 },
 "nbformat": 4,
 "nbformat_minor": 2
}
