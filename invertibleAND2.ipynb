{
 "cells": [
  {
   "cell_type": "code",
   "execution_count": 1,
   "metadata": {},
   "outputs": [],
   "source": [
    "import numpy as np\n",
    "import math\n",
    "import matplotlib.pyplot as plt"
   ]
  },
  {
   "cell_type": "code",
   "execution_count": 2,
   "metadata": {},
   "outputs": [],
   "source": [
    "W = np.array([ [-9, -12, 4], [-9, 4, -12], [-1, -10, -10] ]).T\n",
    "b = np.array([6, 6, 4])\n",
    "c = np.array([4, 6, 6])\n",
    "\n",
    "samples = []\n",
    "C_val = 1\n",
    "V = np.array([C_val, C_val, C_val]) # initial\n",
    "H = np.array([0,0,0])"
   ]
  },
  {
   "cell_type": "code",
   "execution_count": 3,
   "metadata": {},
   "outputs": [],
   "source": [
    "num_samples = 50000\n",
    "\n",
    "def sigmoid(x):\n",
    "  return 1 / (1 + np.exp(-x))\n",
    "\n",
    "def sample_with_prob(arr):\n",
    "    return np.array([np.random.choice([0,1], p=[1-prob,prob]) for prob in arr])"
   ]
  },
  {
   "cell_type": "code",
   "execution_count": 4,
   "metadata": {},
   "outputs": [],
   "source": [
    "for t in range(num_samples):\n",
    "    if (t%2==0): # V to H\n",
    "        # P(H | V) = sigm(WV + c)\n",
    "        p_vec = np.array(sigmoid(np.matmul(W,V)+c))\n",
    "        \n",
    "        H = sample_with_prob(p_vec)\n",
    "        #print(\"H\", H)\n",
    "\n",
    "    else: # H to V\n",
    "        p_vec = np.array(sigmoid(np.matmul(H,W)+b))\n",
    "        V = sample_with_prob(p_vec)\n",
    "        V[2] = C_val\n",
    "        #print(\"V\",V)\n",
    "        istr = [str(i) for i in V]\n",
    "        samples.append(\"\".join(istr))\n"
   ]
  },
  {
   "cell_type": "code",
   "execution_count": 5,
   "metadata": {},
   "outputs": [
    {
     "name": "stdout",
     "output_type": "stream",
     "text": [
      "000 count:  0 , 0.0 %\n",
      "010 count:  0 , 0.0 %\n",
      "100 count:  0 , 0.0 %\n",
      "110 count:  0 , 0.0 %\n",
      "001 count:  0 , 0.0 %\n",
      "011 count:  113 , 0.452 %\n",
      "101 count:  109 , 0.436 %\n",
      "111 count:  24778 , 99.112 %\n"
     ]
    },
    {
     "data": {
      "image/png": "[encoded data removed]",
      "text/plain": [
       "<Figure size 432x288 with 1 Axes>"
      ]
     },
     "metadata": {
      "needs_background": "light"
     },
     "output_type": "display_data"
    }
   ],
   "source": [
    "print(\"000 count: \",samples.count(\"000\"), \",\",100*samples.count(\"000\")/(num_samples/2), \"%\")\n",
    "print(\"010 count: \",samples.count(\"010\"), \",\",100*samples.count(\"010\")/(num_samples/2), \"%\")\n",
    "print(\"100 count: \",samples.count(\"100\"), \",\",100*samples.count(\"100\")/(num_samples/2), \"%\")\n",
    "print(\"110 count: \",samples.count(\"110\"), \",\",100*samples.count(\"110\")/(num_samples/2), \"%\")\n",
    "\n",
    "print(\"001 count: \",samples.count(\"001\"), \",\",100*samples.count(\"001\")/(num_samples/2), \"%\")\n",
    "print(\"011 count: \",samples.count(\"011\"), \",\",100*samples.count(\"011\")/(num_samples/2), \"%\")\n",
    "print(\"101 count: \",samples.count(\"101\"), \",\",100*samples.count(\"101\")/(num_samples/2), \"%\")\n",
    "print(\"111 count: \",samples.count(\"111\"), \",\",100*samples.count(\"111\")/(num_samples/2), \"%\")\n",
    "\n",
    "#plt.bar(samples)\n",
    "plt.hist(samples, bins='auto')\n",
    "plt.show()"
   ]
  },
  {
   "cell_type": "code",
   "execution_count": 6,
   "metadata": {},
   "outputs": [
    {
     "name": "stdout",
     "output_type": "stream",
     "text": [
      "V =  [1 1 1]\n",
      "p(V) =  0.9900266663905319\n"
     ]
    }
   ],
   "source": [
    "# Energy Function\n",
    "def energy_function(W,h,v,b,c):\n",
    "    return -np.matmul(np.matmul(h.T,W),v) - b.T@v - np.matmul(c.T,h)\n",
    "\n",
    "def Z_value(W,b,c,C_val):\n",
    "    exp_sum = 0\n",
    "    V_lists = [np.array(v)for v in [[0,0,C_val], [0,1,C_val], [1,0,C_val], [1,1,C_val]]]\n",
    "    H_lists = [np.array(h) for h in [[0,0,0], [0,1,0], [1,0,0], [1,1,0], [0,0,1], [0,1,1], [1,0,1], [1,1,1]]]\n",
    "    for h in H_lists:\n",
    "        for v in V_lists:\n",
    "            exp_sum += np.exp(-energy_function(W,h,v,b,c))\n",
    "    return exp_sum\n",
    "\n",
    "# (p(V))\n",
    "def prob_visible(W,b,c,V,C_val):\n",
    "    prod_bv = 1\n",
    "    prod_wvc = 1\n",
    "    for j in range(len(b)):\n",
    "        prod_bv = prod_bv * np.exp(b[j] * V[j])\n",
    "    for i in range(len(c)):\n",
    "        prod_wvc = prod_wvc * (1 + np.exp(c[i]+np.matmul(W[i],V)))\n",
    "    return prod_bv * prod_wvc / Z_value(W,b,c,C_val)\n",
    "\n",
    "print(\"V = \", V)\n",
    "print(\"p(V) = \", prob_visible(W,b,c,V,C_val))"
   ]
  },
  {
   "cell_type": "code",
   "execution_count": 7,
   "metadata": {},
   "outputs": [],
   "source": [
    "# graph the energy functions"
   ]
  }
 ],
 "metadata": {
  "interpreter": {
   "hash": "03386c3a8da94798b3ccd9a41b5d8ca93cc03478620923e7222ff2848a6c0f0b"
  },
  "kernelspec": {
   "display_name": "Python 3.8.8 64-bit ('base': conda)",
   "name": "python3"
  },
  "language_info": {
   "codemirror_mode": {
    "name": "ipython",
    "version": 3
   },
   "file_extension": ".py",
   "mimetype": "text/x-python",
   "name": "python",
   "nbconvert_exporter": "python",
   "pygments_lexer": "ipython3",
   "version": "3.8.8"
  },
  "orig_nbformat": 4
 },
 "nbformat": 4,
 "nbformat_minor": 2
}
