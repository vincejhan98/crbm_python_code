{
 "cells": [
  {
   "cell_type": "code",
   "execution_count": 208,
   "metadata": {},
   "outputs": [],
   "source": [
    "import numpy as np\n",
    "import collections"
   ]
  },
  {
   "cell_type": "code",
   "execution_count": 209,
   "metadata": {},
   "outputs": [],
   "source": [
    "L = 10\n",
    "stride = 2\n",
    "W = [[[2.346, -2.346,0],[0,0,0],[0,0,0]], # 2.346 => 1.0\n",
    "    [[0,2.346, -2.346],[0,0,0],[0,0,0]],\n",
    "    [[2.346,0,0],[-2.346,0,0],[0,0,0]],\n",
    "    [[0,2.346,0],[0,-2.346,0],[0,0,0]],\n",
    "    [[0,0,0],[2.346,-2.346,0],[0,0,0]],\n",
    "    [[0,0,0],[0,2.346,-2.346],[0,0,0]],\n",
    "    [[0,0,0],[2.346,0,0],[-2.346,0,0]],\n",
    "    [[0,0,0],[0,2.346,0],[0,-2.346,0]],\n",
    "    [[2.346,0,0],[0,-2.346,0],[0,0,0]],\n",
    "    [[0,0,0],[0,0,2.346],[0,-2.346,0]]]\n",
    "bias_hidden = 0     # b\n",
    "bias_visible = 0   # c\n",
    "\n",
    "V = np.matrix([[1 for _ in range(L)] for _ in range(L)])\n",
    "H = [np.matrix([[0 for _ in range(L//2)] for _ in range(L//2)])  for _ in range(len(W)) ]\n",
    "\n",
    "num_samples = 3000\n",
    "samples = []\n",
    "min_energy = float('inf')\n",
    "min_energy_sample = V.copy()"
   ]
  },
  {
   "cell_type": "code",
   "execution_count": 210,
   "metadata": {},
   "outputs": [],
   "source": [
    "def sample_with_prob(arr):\n",
    "  random = np.random.uniform(-1,1, arr.shape)\n",
    "  array = np.ones(arr.shape)\n",
    "  array[np.where(arr<random)] = -1\n",
    "  return np.array(array)\n",
    "\n",
    "# Convolution convolution(W[0],V,L,stride)\n",
    "def convolution_v_to_h(Wi,V,L,stride):\n",
    "  res = [[] for _ in range(L//2)]\n",
    "  V_pad = np.pad(V, (0,stride), 'wrap')\n",
    "  for i in range(0, L, stride): # row\n",
    "    for j in range(0, L, stride): # col\n",
    "      conv_res = np.multiply(np.array(Wi), V_pad[i:i+3,j:j+3])\n",
    "      res[i//stride].append(conv_res.sum())\n",
    "  return np.array(res)\n",
    "\n",
    "def convolution_h_to_v(Wi, H_zp, L):\n",
    "  res = [[] for _ in range(L)]\n",
    "  for i in range(0, L, 1): # row\n",
    "    for j in range(0, L, 1): # col\n",
    "      conv_res = np.multiply(Wi, H_zp[i:i+3,j:j+3])\n",
    "      res[i].append(conv_res.sum())\n",
    "  return np.array(res)\n",
    "\n",
    "def zero_pad(Hi):\n",
    "  res = np.dstack((np.zeros_like(Hi),Hi)).reshape(Hi.shape[0],-1)\n",
    "  for i in range(0,len(res)*2,2):\n",
    "    res = np.insert(res,i,0,axis=0)\n",
    "  res = np.pad(res, (1,1), 'wrap')\n",
    "  return np.array(res)\n",
    "\n",
    "\n",
    "# Energy Function. 2d array??\n",
    "def energy_function(W,h,v,L,stride,b,c):\n",
    "  return (  -sum([np.multiply(h[k].T, convolution_v_to_h(W[k],v,L, stride)).sum() for k in range(len(W))]) \n",
    "            -b*sum([h_k.sum() for h_k in h]) - c*sum([sum(v_i) for v_i in v])   )"
   ]
  },
  {
   "cell_type": "code",
   "execution_count": 211,
   "metadata": {},
   "outputs": [],
   "source": [
    "for iter in range(num_samples*2):\n",
    "    if iter%2 == 0: # V to H\n",
    "        for i in range(len(W)):\n",
    "            W_flipped = np.flip(W[i], axis=1)\n",
    "            W_flipped = np.flip(W_flipped, axis=0)\n",
    "            H_conv = convolution_v_to_h(W_flipped, V, L, stride)\n",
    "            tanh_vec = np.array(np.tanh(H_conv + bias_hidden))\n",
    "            H[i] = sample_with_prob(tanh_vec)\n",
    "    else: # H to V\n",
    "        V_conv_sum = np.zeros(V.shape)\n",
    "        for i in range(len(W)):\n",
    "            H_zp = zero_pad(H[i])\n",
    "            V_conv_sum = V_conv_sum + convolution_h_to_v(W[i] , H_zp, L)\n",
    "        tanh_vec = np.array(np.tanh(V_conv_sum + bias_visible))\n",
    "        V = sample_with_prob(tanh_vec)\n",
    "\n",
    "        # Collect Samples\n",
    "        samples.append(np.array2string(V.copy()))\n",
    "        energy = energy_function(W,H,V,L,stride,bias_visible,bias_hidden)\n",
    "        if energy < min_energy:\n",
    "            min_energy_sample = V.copy()\n",
    "            min_energy = energy"
   ]
  },
  {
   "cell_type": "code",
   "execution_count": 212,
   "metadata": {},
   "outputs": [
    {
     "name": "stdout",
     "output_type": "stream",
     "text": [
      "\n",
      "Max Occurrence,  2555  out of  3000 samples\n",
      "[[ 1. -1.  1. -1.  1. -1.  1. -1.  1. -1.]\n",
      " [-1.  1. -1.  1. -1.  1. -1.  1. -1.  1.]\n",
      " [ 1. -1.  1. -1.  1. -1.  1. -1.  1. -1.]\n",
      " [-1.  1. -1.  1. -1.  1. -1.  1. -1.  1.]\n",
      " [ 1. -1.  1. -1.  1. -1.  1. -1.  1. -1.]\n",
      " [-1.  1. -1.  1. -1.  1. -1.  1. -1.  1.]\n",
      " [ 1. -1.  1. -1.  1. -1.  1. -1.  1. -1.]\n",
      " [-1.  1. -1.  1. -1.  1. -1.  1. -1.  1.]\n",
      " [ 1. -1.  1. -1.  1. -1.  1. -1.  1. -1.]\n",
      " [-1.  1. -1.  1. -1.  1. -1.  1. -1.  1.]]\n",
      "\n",
      "Min Energy :  -938.3999999999999  is at \n",
      " [[ 1. -1.  1. -1.  1. -1.  1. -1.  1. -1.]\n",
      " [-1.  1. -1.  1. -1.  1. -1.  1. -1.  1.]\n",
      " [ 1. -1.  1. -1.  1. -1.  1. -1.  1. -1.]\n",
      " [-1.  1. -1.  1. -1.  1. -1.  1. -1.  1.]\n",
      " [ 1. -1.  1. -1.  1. -1.  1. -1.  1. -1.]\n",
      " [-1.  1. -1.  1. -1.  1. -1.  1. -1.  1.]\n",
      " [ 1. -1.  1. -1.  1. -1.  1. -1.  1. -1.]\n",
      " [-1.  1. -1.  1. -1.  1. -1.  1. -1.  1.]\n",
      " [ 1. -1.  1. -1.  1. -1.  1. -1.  1. -1.]\n",
      " [-1.  1. -1.  1. -1.  1. -1.  1. -1.  1.]]\n"
     ]
    }
   ],
   "source": [
    "counter = collections.Counter(samples)\n",
    "obj, freq = counter.most_common(1)[0]\n",
    "\n",
    "print(\"\\nMax Occurrence, \", freq, \" out of \", num_samples, \"samples\")\n",
    "print(obj)\n",
    "\n",
    "print(\"\\nMin Energy : \", min_energy, \" is at \\n\", min_energy_sample)"
   ]
  }
 ],
 "metadata": {
  "interpreter": {
   "hash": "03386c3a8da94798b3ccd9a41b5d8ca93cc03478620923e7222ff2848a6c0f0b"
  },
  "kernelspec": {
   "display_name": "Python 3.8.8 64-bit ('base': conda)",
   "name": "python3"
  },
  "language_info": {
   "codemirror_mode": {
    "name": "ipython",
    "version": 3
   },
   "file_extension": ".py",
   "mimetype": "text/x-python",
   "name": "python",
   "nbconvert_exporter": "python",
   "pygments_lexer": "ipython3",
   "version": "3.8.8"
  },
  "orig_nbformat": 4
 },
 "nbformat": 4,
 "nbformat_minor": 2
}
